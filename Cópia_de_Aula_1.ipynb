{
  "nbformat": 4,
  "nbformat_minor": 0,
  "metadata": {
    "colab": {
      "name": "Cópia de Aula 1.ipynb",
      "provenance": [],
      "authorship_tag": "ABX9TyMVUeQ1iCh3ulXbu/iKUbLl",
      "include_colab_link": true
    },
    "kernelspec": {
      "name": "python3",
      "display_name": "Python 3"
    }
  },
  "cells": [
    {
      "cell_type": "markdown",
      "metadata": {
        "id": "view-in-github",
        "colab_type": "text"
      },
      "source": [
        "<a href=\"https://colab.research.google.com/github/wellington-oniromante/Projeto-X/blob/master/C%C3%B3pia_de_Aula_1.ipynb\" target=\"_parent\"><img src=\"https://colab.research.google.com/assets/colab-badge.svg\" alt=\"Open In Colab\"/></a>"
      ]
    },
    {
      "cell_type": "code",
      "metadata": {
        "id": "iieBmvhIIcMQ"
      },
      "source": [
        "se idade maior ou iguala 18 e idade menor ou igual a 70\n",
        "então é obrigado a votar"
      ],
      "execution_count": null,
      "outputs": []
    },
    {
      "cell_type": "code",
      "metadata": {
        "id": "n8ppj8p7Th9F",
        "outputId": "5c9b3591-9f56-4916-9de2-30e83b15742d",
        "colab": {
          "base_uri": "https://localhost:8080/",
          "height": 129
        }
      },
      "source": [
        "#if (True and True):\n",
        " if True "
      ],
      "execution_count": null,
      "outputs": [
        {
          "output_type": "error",
          "ename": "IndentationError",
          "evalue": "ignored",
          "traceback": [
            "\u001b[0;36m  File \u001b[0;32m\"<ipython-input-21-305c32414293>\"\u001b[0;36m, line \u001b[0;32m2\u001b[0m\n\u001b[0;31m    if True\u001b[0m\n\u001b[0m    ^\u001b[0m\n\u001b[0;31mIndentationError\u001b[0m\u001b[0;31m:\u001b[0m unexpected indent\n"
          ]
        }
      ]
    },
    {
      "cell_type": "code",
      "metadata": {
        "id": "go9yM_5NK-tY",
        "outputId": "138be8a9-94de-4f49-c82a-2af8144c7d2e",
        "colab": {
          "base_uri": "https://localhost:8080/",
          "height": 34
        }
      },
      "source": [
        "idade = 71\n",
        "if idade >= 18 and idade <= 70 : \n",
        "  print(\"é obrigado a votar\")\n",
        "else:\n",
        "  print(\"Não é obrigado a Votar\")"
      ],
      "execution_count": null,
      "outputs": [
        {
          "output_type": "stream",
          "text": [
            "Não é obrigado a Votar\n"
          ],
          "name": "stdout"
        }
      ]
    },
    {
      "cell_type": "code",
      "metadata": {
        "id": "52wR-6PXVM9U",
        "outputId": "9cbbc869-4004-4daf-bac5-6a97497661c4",
        "colab": {
          "base_uri": "https://localhost:8080/",
          "height": 34
        }
      },
      "source": [
        "idade = 21\n",
        "if idade >= 18 and idade <= 70 : \n",
        "  print(\"é obrigado a votar\")\n",
        "elif idade >= 16:\n",
        "  print(\"Voto facultativo\")\n",
        "else:\n",
        "  print(\"Não pode Votar\")"
      ],
      "execution_count": null,
      "outputs": [
        {
          "output_type": "stream",
          "text": [
            "é obrigado a votar\n"
          ],
          "name": "stdout"
        }
      ]
    },
    {
      "cell_type": "code",
      "metadata": {
        "id": "aT0qNqtzY_Fz",
        "outputId": "501d8db2-0ce8-41e1-b0f1-255dfed8d24e",
        "colab": {
          "base_uri": "https://localhost:8080/",
          "height": 51
        }
      },
      "source": [
        "numero = input(\"Digite um número: \")\n",
        "print(numero + '4')"
      ],
      "execution_count": null,
      "outputs": [
        {
          "output_type": "stream",
          "text": [
            "Digite um número: 6\n",
            "64\n"
          ],
          "name": "stdout"
        }
      ]
    },
    {
      "cell_type": "code",
      "metadata": {
        "id": "QY_xrwlCaMkK",
        "outputId": "56dbdd5d-9600-4a53-f21b-98e700a1f0db",
        "colab": {
          "base_uri": "https://localhost:8080/",
          "height": 34
        }
      },
      "source": [
        "print('4' + '5')"
      ],
      "execution_count": null,
      "outputs": [
        {
          "output_type": "stream",
          "text": [
            "45\n"
          ],
          "name": "stdout"
        }
      ]
    },
    {
      "cell_type": "code",
      "metadata": {
        "id": "BQ_XkKe7Z5yh",
        "outputId": "e4ff688d-e636-42af-d1c4-83e9c503ae2a",
        "colab": {
          "base_uri": "https://localhost:8080/",
          "height": 34
        }
      },
      "source": [
        "print('abacaxi' + '6')"
      ],
      "execution_count": null,
      "outputs": [
        {
          "output_type": "stream",
          "text": [
            "abacaxi6\n"
          ],
          "name": "stdout"
        }
      ]
    },
    {
      "cell_type": "code",
      "metadata": {
        "id": "7ThUFlZmamax",
        "outputId": "bdba8cbf-ff75-4d41-9ea2-4fc5842518da",
        "colab": {
          "base_uri": "https://localhost:8080/",
          "height": 34
        }
      },
      "source": [
        "# conversão entre tipos\n",
        "numero = int('8')\n",
        "print (numero + 4)"
      ],
      "execution_count": null,
      "outputs": [
        {
          "output_type": "stream",
          "text": [
            "12\n"
          ],
          "name": "stdout"
        }
      ]
    },
    {
      "cell_type": "code",
      "metadata": {
        "id": "pHo_HsJ0a9FC",
        "outputId": "d81874b7-987f-40a5-aabc-7f19fbbe90c1",
        "colab": {
          "base_uri": "https://localhost:8080/",
          "height": 34
        }
      },
      "source": [
        "numero = float('8')\n",
        "print(numero + 4)"
      ],
      "execution_count": null,
      "outputs": [
        {
          "output_type": "stream",
          "text": [
            "12.0\n"
          ],
          "name": "stdout"
        }
      ]
    },
    {
      "cell_type": "code",
      "metadata": {
        "id": "21mKQzOpbfxp",
        "outputId": "bc25bf9e-ff59-4682-9453-e256e31b88b3",
        "colab": {
          "base_uri": "https://localhost:8080/",
          "height": 51
        }
      },
      "source": [
        "numero = int('42')\n",
        "print(numero //5)\n",
        "print(numero % 5)"
      ],
      "execution_count": null,
      "outputs": [
        {
          "output_type": "stream",
          "text": [
            "8\n",
            "2\n"
          ],
          "name": "stdout"
        }
      ]
    },
    {
      "cell_type": "code",
      "metadata": {
        "id": "sRntbzU6b_zJ",
        "outputId": "4b5ebca2-4247-4090-af79-c9a21866d701",
        "colab": {
          "base_uri": "https://localhost:8080/",
          "height": 51
        }
      },
      "source": [
        "idade = int(input('Digite sua idade: '))\n",
        "if idade >= 18 and idade <=70: \n",
        " print('Obrigado a votar')\n",
        "elif idade >= 16:\n",
        " print(\"Facultativo\") \n",
        "else:\n",
        "  print('Não pode votar')\n"
      ],
      "execution_count": null,
      "outputs": [
        {
          "output_type": "stream",
          "text": [
            "Digite sua idade: 12\n",
            "Não pode votar\n"
          ],
          "name": "stdout"
        }
      ]
    },
    {
      "cell_type": "code",
      "metadata": {
        "id": "Os6cah6De-bl",
        "outputId": "b5c9befc-afc8-46fc-f029-b148abeeda49",
        "colab": {
          "base_uri": "https://localhost:8080/",
          "height": 51
        }
      },
      "source": [
        "idade = input('Digite sua idade: ')\n",
        "idade = int (idade)\n",
        "if idade >= 18 and idade <=70: \n",
        " print('Obrigado a votar')\n",
        "elif idade >= 16:\n",
        " print(\"Facultativo\") \n",
        "else:\n",
        "  print('Não pode votar')"
      ],
      "execution_count": null,
      "outputs": [
        {
          "output_type": "stream",
          "text": [
            "Digite sua idade: 71\n",
            "Facultativo\n"
          ],
          "name": "stdout"
        }
      ]
    },
    {
      "cell_type": "markdown",
      "metadata": {
        "id": "77Xh6d0ENXoB"
      },
      "source": [
        "#Variáveis "
      ]
    },
    {
      "cell_type": "code",
      "metadata": {
        "id": "iuN9yQt7NrLu",
        "outputId": "a9719841-cfe6-49c5-a460-fb3152b54aa8",
        "colab": {
          "base_uri": "https://localhost:8080/",
          "height": 85
        }
      },
      "source": [
        "# int integer - inteiro \n",
        "dia = 19\n",
        "# float floating point - ponto flutuante\n",
        "valor = 42.9\n",
        "# str string - cadeia de caracteres (texto, mensagem)\n",
        "mensagem = \"sou uma string\"\n",
        "menagem = 'sou uma string'\n",
        "# bool boolean - booleano\n",
        "situaçao_regular = False\n",
        "\n",
        "print(dia)\n",
        "print(valor)\n",
        "print(mensagem)\n",
        "print(situacao_regular)"
      ],
      "execution_count": null,
      "outputs": [
        {
          "output_type": "stream",
          "text": [
            "19\n",
            "42.9\n",
            "sou uma string\n",
            "False\n"
          ],
          "name": "stdout"
        }
      ]
    },
    {
      "cell_type": "code",
      "metadata": {
        "id": "lbvTr0q2RIGm",
        "outputId": "4029eaad-9bb3-453a-8868-90f838034473",
        "colab": {
          "base_uri": "https://localhost:8080/",
          "height": 68
        }
      },
      "source": [
        "situacao_regular = True\n",
        "if situacao_regular:\n",
        "  # se a condição for verdadeira será executada\n",
        "  print(\"passou na condição\")\n",
        "  print(7+15)\n",
        "else:\n",
        "  print(\"caso a condição seja falsa\")\n",
        "print(\"fora do if\")"
      ],
      "execution_count": null,
      "outputs": [
        {
          "output_type": "stream",
          "text": [
            "passou na condição\n",
            "22\n",
            "fora do if\n"
          ],
          "name": "stdout"
        }
      ]
    },
    {
      "cell_type": "code",
      "metadata": {
        "id": "f5CuiJdwhL0X"
      },
      "source": [
        "# conversão entre tipos\n",
        "idade = 20\n",
        "print(str(idade) + \" anos é obrigado a votar\")\n",
        "print(idade, \" anos é obrigado a votar\")\n",
        "print(f\"{idade} anos é obrigado a votar\")"
      ],
      "execution_count": null,
      "outputs": []
    },
    {
      "cell_type": "code",
      "metadata": {
        "id": "Fwc6PXFOiTJ2",
        "outputId": "4566aabc-11e7-4865-f98f-c8d76e0d392d",
        "colab": {
          "base_uri": "https://localhost:8080/",
          "height": 51
        }
      },
      "source": [
        "# Usando o INPUT de forma diferete para converter de str para int \n",
        "idade = input('Digite sua idade: ')\n",
        "idade = int(idade)\n",
        "if idade >= 18 and idade <70: \n",
        " print(f'Com {idade} anos, é Obrigado a votar')\n",
        "elif idade >= 16:\n",
        " print(f\"Com {idade} anos, o voto é Facultativo\") \n",
        "else:\n",
        "  print(f'com {idade} anos, você não pode votar')"
      ],
      "execution_count": null,
      "outputs": [
        {
          "output_type": "stream",
          "text": [
            "Digite sua idade: 15\n",
            "com 15 anos, você não pode votar\n"
          ],
          "name": "stdout"
        }
      ]
    }
  ]
}